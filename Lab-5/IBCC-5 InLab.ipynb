{
 "cells": [
  {
   "cell_type": "code",
   "execution_count": 1,
   "id": "06b23ada",
   "metadata": {},
   "outputs": [
    {
     "name": "stdout",
     "output_type": "stream",
     "text": [
      "Signature verified: True\n"
     ]
    }
   ],
   "source": [
    "from ecdsa import SigningKey, VerifyingKey, SECP256k1\n",
    "from ecdsa.util import string_to_number\n",
    "\n",
    "def generate_key_pair():\n",
    "    # Generate ECDSA key pair\n",
    "    sk = SigningKey.generate(curve=SECP256k1)\n",
    "    vk = sk.get_verifying_key()\n",
    "    return sk, vk\n",
    "\n",
    "def sign_message(private_key, message):\n",
    "    # Sign the message with the private key\n",
    "    return private_key.sign(message.encode())\n",
    "\n",
    "def verify_signature(public_key, message, signature):\n",
    "    # Verify the signature with the public key\n",
    "    try:\n",
    "        return public_key.verify(signature, message.encode())\n",
    "    except:\n",
    "        return False\n",
    "\n",
    "# Example usage\n",
    "private_key, public_key = generate_key_pair()\n",
    "message = \"Hello, ECDSA!\"\n",
    "signature = sign_message(private_key, message)\n",
    "\n",
    "# Verify the signature\n",
    "is_verified = verify_signature(public_key, message, signature)\n",
    "print(f\"Signature verified: {is_verified}\")"
   ]
  }
 ],
 "metadata": {
  "kernelspec": {
   "display_name": "Python 3 (ipykernel)",
   "language": "python",
   "name": "python3"
  },
  "language_info": {
   "codemirror_mode": {
    "name": "ipython",
    "version": 3
   },
   "file_extension": ".py",
   "mimetype": "text/x-python",
   "name": "python",
   "nbconvert_exporter": "python",
   "pygments_lexer": "ipython3",
   "version": "3.11.4"
  }
 },
 "nbformat": 4,
 "nbformat_minor": 5
}
