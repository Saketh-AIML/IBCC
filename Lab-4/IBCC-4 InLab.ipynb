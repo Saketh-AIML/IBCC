{
 "cells": [
  {
   "cell_type": "code",
   "execution_count": 5,
   "id": "aee0fb1c",
   "metadata": {},
   "outputs": [
    {
     "name": "stdout",
     "output_type": "stream",
     "text": [
      "SHA-256 Hash: d0e8b8f11c98f369016eb2ed3c541e1f01382f9d5b3104c9ffd06b6175a46271\n"
     ]
    }
   ],
   "source": [
    "import hashlib\n",
    "\n",
    "def sha256_hash(input_string):\n",
    "    # Create a SHA-256 hash object\n",
    "    sha256 = hashlib.sha256()\n",
    "    \n",
    "    # Update the hash object with the input string (encode to bytes)\n",
    "    sha256.update(input_string.encode('utf-8'))\n",
    "    \n",
    "    # Get the hexadecimal representation of the digest\n",
    "    return sha256.hexdigest()\n",
    "\n",
    "# Example usage\n",
    "input_data = \"Hello, SHA-256!\"\n",
    "hashed_value = sha256_hash(input_data)\n",
    "print(f\"SHA-256 Hash: {hashed_value}\")\n"
   ]
  }
 ],
 "metadata": {
  "kernelspec": {
   "display_name": "Python 3 (ipykernel)",
   "language": "python",
   "name": "python3"
  },
  "language_info": {
   "codemirror_mode": {
    "name": "ipython",
    "version": 3
   },
   "file_extension": ".py",
   "mimetype": "text/x-python",
   "name": "python",
   "nbconvert_exporter": "python",
   "pygments_lexer": "ipython3",
   "version": "3.11.4"
  }
 },
 "nbformat": 4,
 "nbformat_minor": 5
}
